{
 "cells": [
  {
   "cell_type": "code",
   "execution_count": null,
   "id": "88a8abee",
   "metadata": {},
   "outputs": [],
   "source": [
    "import random\n",
    "import string\n",
    "\n",
    "def generate_password(length,use_letters=True ,use_numbers=True,use_symbols=True):\n",
    "\tcharacter_pool=''\n",
    "\n",
    "\tif use_letters:\n",
    "\t\tcharacter_pool +=string.ascii_letters\n",
    "\tif use_numbers:\n",
    "\t\tcharacter_pool +=string.digits\n",
    "\tif use_symbols:\n",
    "\t\tcharacter_pool +=string.punctuation\n",
    "\n",
    "\tif not character_pool:\n",
    "\t\tprint(\"Error: No character types selected!\")\n",
    "\t\treturn None\n",
    "\n",
    "\tpassword=''.join(random.choice(character_pool) for _ in range(length))\n",
    "\treturn password\n",
    "\n",
    "def main():\n",
    "\tprint(\"Random Password generator\")\n",
    "\n",
    "\tlength=int(input(\"Enter password length: \"))\n",
    "\tuse_letters=input(\"Include letters? (y/n): \").strip().lower()=='y'\n",
    "\tuse_numbers=input(\"Include numbers? (y/n): \").strip().lower() == 'y'\n",
    "\tuse_symbols = input(\"Include symbols? (y/n): \").strip().lower() == 'y'\n",
    "\n",
    "\tpassword = generate_password(length, use_letters, use_numbers, use_symbols)\n",
    "\n",
    "\tif password:\n",
    "\t\tprint(f\"Generated Password: {password}\")\n",
    "\n",
    "if __name__ ==\"__main__\":\n",
    "\tmain()"
   ]
  }
 ],
 "metadata": {
  "kernelspec": {
   "display_name": "Python 3 (ipykernel)",
   "language": "python",
   "name": "python3"
  },
  "language_info": {
   "codemirror_mode": {
    "name": "ipython",
    "version": 3
   },
   "file_extension": ".py",
   "mimetype": "text/x-python",
   "name": "python",
   "nbconvert_exporter": "python",
   "pygments_lexer": "ipython3",
   "version": "3.9.13"
  }
 },
 "nbformat": 4,
 "nbformat_minor": 5
}
